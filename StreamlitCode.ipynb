{
 "cells": [
  {
   "cell_type": "code",
   "execution_count": 1,
   "id": "61582670",
   "metadata": {},
   "outputs": [],
   "source": [
    "import numpy as np\n",
    "import pickle\n",
    "import pandas as pd\n",
    "import streamlit as st "
   ]
  },
  {
   "cell_type": "code",
   "execution_count": 2,
   "id": "9a35aa11",
   "metadata": {},
   "outputs": [],
   "source": [
    "pickle_in = open(\"Customer_Personality_Analysis_Group5_V01.pkl\",\"rb\")\n",
    "model=pickle.load(pickle_in)"
   ]
  },
  {
   "cell_type": "code",
   "execution_count": 4,
   "id": "3e07c081",
   "metadata": {},
   "outputs": [],
   "source": [
    "def Classifier_predict (Income,Customer_Retention,Age,Kids,Total_Spend):\n",
    "    prediction=model.predict([[Income,Customer_Retention,Age,Kids,Total_Spend]])\n",
    "    print(prediction)\n",
    "    return prediction"
   ]
  },
  {
   "cell_type": "code",
   "execution_count": 1,
   "id": "a5eb82ab",
   "metadata": {},
   "outputs": [],
   "source": [
    "def main():\n",
    "    st.title(\"Customer Personality Predictor\")\n",
    "    html_temp = \"\"\"\n",
    "    <div style=\"background-color:tomato;padding:10px\">\n",
    "    <h2 style=\"color:white;text-align:center;\">Customer Personality Predictor </h2>\n",
    "    </div>\n",
    "    \"\"\"\n",
    "    st.markdown(html_temp,unsafe_allow_html=True)\n",
    "    Income = st.text_input(\"Income\",\"\")\n",
    "    st.text(\"Please provide Income of the Customer\")\n",
    "    Customer_Retention = st.text_input(\"Customer_Retention\",\"\")\n",
    "    st.text(\"Please provide from how many months customer is with store\")   \n",
    "    Age = st.text_input(\"Age\",\"\")\n",
    "    st.text(\"Please provide Age of customer\")    \n",
    "    Kids = st.text_input(\"Kids\",\"\")\n",
    "    Total_Spend = st.text_input(\"Total_Spend\",\"\")\n",
    "    st.text(\"Please provide total spending of the customer \")\n",
    "    result=\"\"\n",
    "    if st.button(\"Predict\"):\n",
    "        result = Classifier_predict (Income,Customer_Retention,Age,Kids,Total_Spend)\n",
    "    st.success('The output is {}'.format(result))\n",
    "    if st.button(\"For More Info regarding Prediction\"):\n",
    "        st.text(\"0 == Platinum Class\")\n",
    "        st.text(\"2 == Gold Class\")\n",
    "        st.text(\"1 == Sliver Class\")\n",
    "        st.text(\"3 == Bronze Class\")        "
   ]
  },
  {
   "cell_type": "code",
   "execution_count": 6,
   "id": "ba419360",
   "metadata": {},
   "outputs": [],
   "source": [
    "if __name__=='__main__':\n",
    "    main()"
   ]
  }
 ],
 "metadata": {
  "kernelspec": {
   "display_name": "Python 3 (ipykernel)",
   "language": "python",
   "name": "python3"
  },
  "language_info": {
   "codemirror_mode": {
    "name": "ipython",
    "version": 3
   },
   "file_extension": ".py",
   "mimetype": "text/x-python",
   "name": "python",
   "nbconvert_exporter": "python",
   "pygments_lexer": "ipython3",
   "version": "3.9.16"
  }
 },
 "nbformat": 4,
 "nbformat_minor": 5
}
